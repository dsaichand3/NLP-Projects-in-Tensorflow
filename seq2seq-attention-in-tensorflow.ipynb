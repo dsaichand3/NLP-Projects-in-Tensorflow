{
 "cells": [
  {
   "cell_type": "code",
   "execution_count": 1,
   "metadata": {
    "_cell_guid": "b1076dfc-b9ad-4769-8c92-a6c4dae69d19",
    "_uuid": "8f2839f25d086af736a60e9eeb907d3b93b6e0e5",
    "execution": {
     "iopub.execute_input": "2022-05-14T16:09:13.086058Z",
     "iopub.status.busy": "2022-05-14T16:09:13.085772Z",
     "iopub.status.idle": "2022-05-14T16:09:13.785766Z",
     "shell.execute_reply": "2022-05-14T16:09:13.785114Z",
     "shell.execute_reply.started": "2022-05-14T16:09:13.086030Z"
    }
   },
   "outputs": [
    {
     "name": "stdout",
     "output_type": "stream",
     "text": [
      "/kaggle/input/language-translation-englishfrench/eng_-french.csv\n"
     ]
    }
   ],
   "source": [
    "import numpy as np # linear algebra\n",
    "import pandas as pd # data processing, CSV file I/O (e.g. pd.read_csv)\n",
    "\n",
    "\n",
    "import os\n",
    "for dirname, _, filenames in os.walk('/kaggle/input'):\n",
    "    for filename in filenames:\n",
    "        print(os.path.join(dirname, filename))"
   ]
  },
  {
   "cell_type": "code",
   "execution_count": 2,
   "metadata": {
    "_cell_guid": "79c7e3d0-c299-4dcb-8224-4455121ee9b0",
    "_uuid": "d629ff2d2480ee46fbb7e2d37f6b5fab8052498a",
    "execution": {
     "iopub.execute_input": "2022-05-14T16:09:13.789022Z",
     "iopub.status.busy": "2022-05-14T16:09:13.788802Z",
     "iopub.status.idle": "2022-05-14T16:09:15.697922Z",
     "shell.execute_reply": "2022-05-14T16:09:15.697207Z",
     "shell.execute_reply.started": "2022-05-14T16:09:13.788997Z"
    }
   },
   "outputs": [],
   "source": [
    "train_t = pd.read_csv('/kaggle/input/language-translation-englishfrench/eng_-french.csv')\n",
    "\n",
    "df = train_t[0:100000]\n",
    "\n",
    "import re\n",
    "english = []\n",
    "french = []\n",
    "for i in df['English words/sentences']:\n",
    "    text = i.lower()\n",
    "    text = re.sub('[^a-zA-Z]',' ',text)\n",
    "    text = re.sub(' +',' ',text)\n",
    "    text = text[:-1]\n",
    "    english.append(text)\n",
    "\n",
    "for j in df['French words/sentences']:\n",
    "    ftext =  j.lower()\n",
    "    ftext = (re.sub(\"[^a-zA-Z' àâäèéêëîïôœùûüÿçÀÂÄÈÉÊËÎÏÔŒÙÛÜŸÇ]\",' ',ftext))\n",
    "    ftext = re.sub(' +',' ',ftext)\n",
    "    ftext = ftext[:-1]\n",
    "    french.append(\"start_ \" + ftext + \" _end\")\n",
    "    \n",
    "cleaned_data = pd.DataFrame({'english':english,'french':french})\n",
    "\n",
    "english_words = []\n",
    "french_words = []\n",
    "\n",
    "for i in cleaned_data['english']:\n",
    "    english_words.append(len(i.split()))\n",
    "\n",
    "for j in cleaned_data['french']:\n",
    "    french_words.append(len(j.split()))"
   ]
  },
  {
   "cell_type": "code",
   "execution_count": 3,
   "metadata": {
    "execution": {
     "iopub.execute_input": "2022-05-14T16:09:15.699687Z",
     "iopub.status.busy": "2022-05-14T16:09:15.699422Z",
     "iopub.status.idle": "2022-05-14T16:09:17.139293Z",
     "shell.execute_reply": "2022-05-14T16:09:17.138431Z",
     "shell.execute_reply.started": "2022-05-14T16:09:15.699655Z"
    }
   },
   "outputs": [
    {
     "data": {
      "image/png": "[encoded data removed]",
      "text/plain": [
       "<Figure size 432x288 with 1 Axes>"
      ]
     },
     "metadata": {
      "needs_background": "light"
     },
     "output_type": "display_data"
    },
    {
     "data": {
      "image/png": "[encoded data removed]",
      "text/plain": [
       "<Figure size 432x288 with 1 Axes>"
      ]
     },
     "metadata": {
      "needs_background": "light"
     },
     "output_type": "display_data"
    }
   ],
   "source": [
    "import seaborn as sn\n",
    "import matplotlib.pyplot as plt\n",
    "\n",
    "sn.countplot(english_words)\n",
    "plt.show()\n",
    "\n",
    "sn.countplot(x = french_words)\n",
    "plt.show()"
   ]
  },
  {
   "cell_type": "code",
   "execution_count": 4,
   "metadata": {
    "execution": {
     "iopub.execute_input": "2022-05-14T16:09:17.141003Z",
     "iopub.status.busy": "2022-05-14T16:09:17.140685Z",
     "iopub.status.idle": "2022-05-14T16:09:17.256932Z",
     "shell.execute_reply": "2022-05-14T16:09:17.256287Z",
     "shell.execute_reply.started": "2022-05-14T16:09:17.140967Z"
    }
   },
   "outputs": [],
   "source": [
    "max_len_english = max(english_words)\n",
    "max_len_french = max(french_words)\n",
    "\n",
    "from sklearn.model_selection import train_test_split\n",
    "x_tr,x_val,y_tr,y_val=train_test_split(cleaned_data['english'],cleaned_data['french'],test_size=0.1,random_state=12,shuffle=True)"
   ]
  },
  {
   "cell_type": "code",
   "execution_count": 5,
   "metadata": {
    "execution": {
     "iopub.execute_input": "2022-05-14T16:09:17.259946Z",
     "iopub.status.busy": "2022-05-14T16:09:17.259687Z",
     "iopub.status.idle": "2022-05-14T16:09:30.939474Z",
     "shell.execute_reply": "2022-05-14T16:09:30.938530Z",
     "shell.execute_reply.started": "2022-05-14T16:09:17.259912Z"
    }
   },
   "outputs": [
    {
     "name": "stderr",
     "output_type": "stream",
     "text": [
      "Using TensorFlow backend.\n"
     ]
    }
   ],
   "source": [
    "from keras.preprocessing.text import Tokenizer\n",
    "x_tokens = Tokenizer()\n",
    "x_tokens.fit_on_texts(x_tr)\n",
    "\n",
    "x_tr = x_tokens.texts_to_sequences(x_tr)\n",
    "x_val = x_tokens.texts_to_sequences(x_val)\n",
    "\n",
    "from keras.preprocessing.sequence import pad_sequences\n",
    "x_tr = pad_sequences(x_tr,maxlen = max_len_english,padding = 'post')\n",
    "x_val = pad_sequences(x_val,maxlen = max_len_english,padding = 'post')\n",
    "\n",
    "# +1 for padding \n",
    "x_voc_size   =  len(x_tokens.word_index) +1\n",
    "\n",
    "# y data\n",
    "from keras.preprocessing.text import Tokenizer\n",
    "y_tokens = Tokenizer()\n",
    "y_tokens.fit_on_texts(y_tr)\n",
    "\n",
    "y_tr = y_tokens.texts_to_sequences(y_tr)\n",
    "y_val = y_tokens.texts_to_sequences(y_val)\n",
    "\n",
    "from keras.preprocessing.sequence import pad_sequences\n",
    "y_tr = pad_sequences(y_tr,maxlen = max_len_french,padding = 'post')\n",
    "y_val = pad_sequences(y_val,maxlen = max_len_french,padding = 'post')\n",
    "\n",
    "# +1 for padding \n",
    "y_voc_size   =  len(y_tokens.word_index) +1"
   ]
  },
  {
   "cell_type": "code",
   "execution_count": 6,
   "metadata": {
    "execution": {
     "iopub.execute_input": "2022-05-14T16:42:55.648865Z",
     "iopub.status.busy": "2022-05-14T16:42:55.648576Z",
     "iopub.status.idle": "2022-05-14T16:43:03.261841Z",
     "shell.execute_reply": "2022-05-14T16:43:03.260939Z",
     "shell.execute_reply.started": "2022-05-14T16:42:55.648836Z"
    }
   },
   "outputs": [
    {
     "name": "stdout",
     "output_type": "stream",
     "text": [
      "Collecting attention\r\n",
      "  Downloading attention-4.1-py3-none-any.whl (8.6 kB)\r\n",
      "Requirement already satisfied: numpy>=1.18.1 in /opt/conda/lib/python3.6/site-packages (from attention) (1.18.2)\r\n",
      "Requirement already satisfied: tensorflow>=2.1 in /opt/conda/lib/python3.6/site-packages (from attention) (2.1.0)\r\n",
      "Requirement already satisfied: wheel>=0.26; python_version >= \"3\" in /opt/conda/lib/python3.6/site-packages (from tensorflow>=2.1->attention) (0.34.2)\r\n",
      "Requirement already satisfied: keras-preprocessing>=1.1.0 in /opt/conda/lib/python3.6/site-packages (from tensorflow>=2.1->attention) (1.1.0)\r\n",
      "Requirement already satisfied: wrapt>=1.11.1 in /opt/conda/lib/python3.6/site-packages (from tensorflow>=2.1->attention) (1.11.2)\r\n",
      "Requirement already satisfied: protobuf>=3.8.0 in /opt/conda/lib/python3.6/site-packages (from tensorflow>=2.1->attention) (3.11.3)\r\n",
      "Requirement already satisfied: six>=1.12.0 in /opt/conda/lib/python3.6/site-packages (from tensorflow>=2.1->attention) (1.14.0)\r\n",
      "Requirement already satisfied: grpcio>=1.8.6 in /opt/conda/lib/python3.6/site-packages (from tensorflow>=2.1->attention) (1.27.2)\r\n",
      "Requirement already satisfied: astor>=0.6.0 in /opt/conda/lib/python3.6/site-packages (from tensorflow>=2.1->attention) (0.8.1)\r\n",
      "Requirement already satisfied: keras-applications>=1.0.8 in /opt/conda/lib/python3.6/site-packages (from tensorflow>=2.1->attention) (1.0.8)\r\n",
      "Requirement already satisfied: tensorboard<2.2.0,>=2.1.0 in /opt/conda/lib/python3.6/site-packages (from tensorflow>=2.1->attention) (2.1.1)\r\n",
      "Requirement already satisfied: gast==0.2.2 in /opt/conda/lib/python3.6/site-packages (from tensorflow>=2.1->attention) (0.2.2)\r\n",
      "Requirement already satisfied: opt-einsum>=2.3.2 in /opt/conda/lib/python3.6/site-packages (from tensorflow>=2.1->attention) (3.2.0)\r\n",
      "Requirement already satisfied: scipy==1.4.1; python_version >= \"3\" in /opt/conda/lib/python3.6/site-packages (from tensorflow>=2.1->attention) (1.4.1)\r\n",
      "Requirement already satisfied: tensorflow-estimator<2.2.0,>=2.1.0rc0 in /opt/conda/lib/python3.6/site-packages (from tensorflow>=2.1->attention) (2.1.0)\r\n",
      "Requirement already satisfied: google-pasta>=0.1.6 in /opt/conda/lib/python3.6/site-packages (from tensorflow>=2.1->attention) (0.2.0)\r\n",
      "Requirement already satisfied: termcolor>=1.1.0 in /opt/conda/lib/python3.6/site-packages (from tensorflow>=2.1->attention) (1.1.0)\r\n",
      "Requirement already satisfied: absl-py>=0.7.0 in /opt/conda/lib/python3.6/site-packages (from tensorflow>=2.1->attention) (0.9.0)\r\n",
      "Requirement already satisfied: setuptools in /opt/conda/lib/python3.6/site-packages (from protobuf>=3.8.0->tensorflow>=2.1->attention) (46.1.3.post20200330)\r\n",
      "Requirement already satisfied: h5py in /opt/conda/lib/python3.6/site-packages (from keras-applications>=1.0.8->tensorflow>=2.1->attention) (2.10.0)\r\n",
      "Requirement already satisfied: werkzeug>=0.11.15 in /opt/conda/lib/python3.6/site-packages (from tensorboard<2.2.0,>=2.1.0->tensorflow>=2.1->attention) (1.0.0)\r\n",
      "Requirement already satisfied: requests<3,>=2.21.0 in /opt/conda/lib/python3.6/site-packages (from tensorboard<2.2.0,>=2.1.0->tensorflow>=2.1->attention) (2.22.0)\r\n",
      "Requirement already satisfied: google-auth-oauthlib<0.5,>=0.4.1 in /opt/conda/lib/python3.6/site-packages (from tensorboard<2.2.0,>=2.1.0->tensorflow>=2.1->attention) (0.4.1)\r\n",
      "Requirement already satisfied: google-auth<2,>=1.6.3 in /opt/conda/lib/python3.6/site-packages (from tensorboard<2.2.0,>=2.1.0->tensorflow>=2.1->attention) (1.12.0)\r\n",
      "Requirement already satisfied: markdown>=2.6.8 in /opt/conda/lib/python3.6/site-packages (from tensorboard<2.2.0,>=2.1.0->tensorflow>=2.1->attention) (3.2.1)\r\n",
      "Requirement already satisfied: urllib3!=1.25.0,!=1.25.1,<1.26,>=1.21.1 in /opt/conda/lib/python3.6/site-packages (from requests<3,>=2.21.0->tensorboard<2.2.0,>=2.1.0->tensorflow>=2.1->attention) (1.24.3)\r\n",
      "Requirement already satisfied: certifi>=2017.4.17 in /opt/conda/lib/python3.6/site-packages (from requests<3,>=2.21.0->tensorboard<2.2.0,>=2.1.0->tensorflow>=2.1->attention) (2019.11.28)\r\n",
      "Requirement already satisfied: idna<2.9,>=2.5 in /opt/conda/lib/python3.6/site-packages (from requests<3,>=2.21.0->tensorboard<2.2.0,>=2.1.0->tensorflow>=2.1->attention) (2.8)\r\n",
      "Requirement already satisfied: chardet<3.1.0,>=3.0.2 in /opt/conda/lib/python3.6/site-packages (from requests<3,>=2.21.0->tensorboard<2.2.0,>=2.1.0->tensorflow>=2.1->attention) (3.0.4)\r\n",
      "Requirement already satisfied: requests-oauthlib>=0.7.0 in /opt/conda/lib/python3.6/site-packages (from google-auth-oauthlib<0.5,>=0.4.1->tensorboard<2.2.0,>=2.1.0->tensorflow>=2.1->attention) (1.3.0)\r\n",
      "Requirement already satisfied: cachetools<5.0,>=2.0.0 in /opt/conda/lib/python3.6/site-packages (from google-auth<2,>=1.6.3->tensorboard<2.2.0,>=2.1.0->tensorflow>=2.1->attention) (4.0.0)\r\n",
      "Requirement already satisfied: pyasn1-modules>=0.2.1 in /opt/conda/lib/python3.6/site-packages (from google-auth<2,>=1.6.3->tensorboard<2.2.0,>=2.1.0->tensorflow>=2.1->attention) (0.2.8)\r\n",
      "Requirement already satisfied: rsa<4.1,>=3.1.4 in /opt/conda/lib/python3.6/site-packages (from google-auth<2,>=1.6.3->tensorboard<2.2.0,>=2.1.0->tensorflow>=2.1->attention) (4.0)\r\n",
      "Requirement already satisfied: oauthlib>=3.0.0 in /opt/conda/lib/python3.6/site-packages (from requests-oauthlib>=0.7.0->google-auth-oauthlib<0.5,>=0.4.1->tensorboard<2.2.0,>=2.1.0->tensorflow>=2.1->attention) (3.1.0)\r\n",
      "Requirement already satisfied: pyasn1<0.5.0,>=0.4.6 in /opt/conda/lib/python3.6/site-packages (from pyasn1-modules>=0.2.1->google-auth<2,>=1.6.3->tensorboard<2.2.0,>=2.1.0->tensorflow>=2.1->attention) (0.4.8)\r\n",
      "Installing collected packages: attention\r\n",
      "Successfully installed attention-4.1\r\n"
     ]
    }
   ],
   "source": [
    "!pip install attention"
   ]
  },
  {
   "cell_type": "code",
   "execution_count": 7,
   "metadata": {
    "execution": {
     "iopub.execute_input": "2022-05-14T19:02:59.264071Z",
     "iopub.status.busy": "2022-05-14T19:02:59.263798Z",
     "iopub.status.idle": "2022-05-14T19:03:00.841310Z",
     "shell.execute_reply": "2022-05-14T19:03:00.840649Z",
     "shell.execute_reply.started": "2022-05-14T19:02:59.264041Z"
    }
   },
   "outputs": [
    {
     "name": "stdout",
     "output_type": "stream",
     "text": [
      "(None, None, 600) (None, 9, 600) (None, None, 600)\n",
      "Model: \"model\"\n",
      "__________________________________________________________________________________________________\n",
      "Layer (type)                    Output Shape         Param #     Connected to                     \n",
      "==================================================================================================\n",
      "input_1 (InputLayer)            [(None, 9)]          0                                            \n",
      "__________________________________________________________________________________________________\n",
      "embedding (Embedding)           (None, 9, 300)       2508600     input_1[0][0]                    \n",
      "__________________________________________________________________________________________________\n",
      "bidirectional (Bidirectional)   [(None, 9, 600), (No 1442400     embedding[0][0]                  \n",
      "__________________________________________________________________________________________________\n",
      "bidirectional_1 (Bidirectional) [(None, 9, 600), (No 2162400     bidirectional[0][0]              \n",
      "__________________________________________________________________________________________________\n",
      "input_2 (InputLayer)            [(None, None)]       0                                            \n",
      "__________________________________________________________________________________________________\n",
      "bidirectional_2 (Bidirectional) [(None, 9, 600), (No 2162400     bidirectional_1[0][0]            \n",
      "__________________________________________________________________________________________________\n",
      "embedding_1 (Embedding)         (None, None, 300)    4946400     input_2[0][0]                    \n",
      "__________________________________________________________________________________________________\n",
      "concatenate (Concatenate)       (None, 600)          0           bidirectional_2[0][1]            \n",
      "                                                                 bidirectional_2[0][3]            \n",
      "__________________________________________________________________________________________________\n",
      "concatenate_1 (Concatenate)     (None, 600)          0           bidirectional_2[0][2]            \n",
      "                                                                 bidirectional_2[0][4]            \n",
      "__________________________________________________________________________________________________\n",
      "lstm_3 (LSTM)                   [(None, None, 600),  2162400     embedding_1[0][0]                \n",
      "                                                                 concatenate[0][0]                \n",
      "                                                                 concatenate_1[0][0]              \n",
      "__________________________________________________________________________________________________\n",
      "attention (Attention)           (None, None, 600)    0           lstm_3[0][0]                     \n",
      "                                                                 bidirectional_2[0][0]            \n",
      "__________________________________________________________________________________________________\n",
      "concat_layer (Concatenate)      (None, None, 1200)   0           attention[0][0]                  \n",
      "                                                                 lstm_3[0][0]                     \n",
      "__________________________________________________________________________________________________\n",
      "time_distributed (TimeDistribut (None, None, 16488)  19802088    concat_layer[0][0]               \n",
      "==================================================================================================\n",
      "Total params: 35,186,688\n",
      "Trainable params: 35,186,688\n",
      "Non-trainable params: 0\n",
      "__________________________________________________________________________________________________\n"
     ]
    }
   ],
   "source": [
    "from tensorflow.keras.layers import Attention\n",
    "from tensorflow.keras.layers import Input, LSTM, Embedding, Dense, Concatenate, TimeDistributed, Bidirectional\n",
    "from tensorflow.keras.models import Model\n",
    "from tensorflow.keras.callbacks import EarlyStopping\n",
    "from keras import backend as K \n",
    "K.clear_session()\n",
    "\n",
    "latent_dim = 300\n",
    "\n",
    "encoder_inputs = Input(shape=(max_len_english,))\n",
    "\n",
    "enc_emb =  Embedding(x_voc_size, latent_dim,trainable=True)(encoder_inputs)\n",
    "\n",
    "encoder_lstm1 = Bidirectional(LSTM(latent_dim,return_sequences=True,return_state=True))\n",
    "encoder_output1, forward_h1, forward_c1, backward_h1, backward_c1 = encoder_lstm1(enc_emb)\n",
    "\n",
    "encoder_lstm2 = Bidirectional(LSTM(latent_dim,return_sequences=True,return_state=True))\n",
    "encoder_output2, forward_h2, forward_c2, backward_h2, backward_c2 = encoder_lstm2(encoder_output1)\n",
    "\n",
    "encoder_lstm3 = Bidirectional(LSTM(latent_dim, return_state=True, return_sequences=True))\n",
    "encoder_outputs, forward_h3, forward_c3, backward_h3, backward_c3= encoder_lstm3(encoder_output2)\n",
    "\n",
    "state_h = Concatenate()([forward_h3,backward_h3])\n",
    "state_c = Concatenate()([forward_c3,backward_c3])\n",
    "\n",
    "decoder_inputs = Input(shape=(None,))\n",
    "\n",
    "dec_emb_layer = Embedding(y_voc_size, latent_dim,trainable=True)\n",
    "dec_emb = dec_emb_layer(decoder_inputs)\n",
    "\n",
    "decoder_lstm = LSTM(600, return_sequences=True, return_state=True)\n",
    "decoder_outputs, decoder_fwd_state, decoder_back_state = decoder_lstm(dec_emb, initial_state=[state_h, state_c])\n",
    "\n",
    "attn_layer = Attention()\n",
    "\n",
    "attn_out = attn_layer([decoder_outputs, encoder_outputs])\n",
    "\n",
    "print(attn_out.shape, encoder_outputs.shape, decoder_outputs.shape)\n",
    "\n",
    "decoder_concat_input = Concatenate(axis=-1, name='concat_layer')([attn_out, decoder_outputs])\n",
    "\n",
    "decoder_dense =  TimeDistributed(Dense(y_voc_size, activation='softmax'))\n",
    "decoder_out = decoder_dense(decoder_concat_input)\n",
    "\n",
    "model = Model([encoder_inputs, decoder_inputs], decoder_out)\n",
    "\n",
    "model.summary()"
   ]
  },
  {
   "cell_type": "code",
   "execution_count": 8,
   "metadata": {
    "execution": {
     "iopub.execute_input": "2022-05-14T19:08:40.890272Z",
     "iopub.status.busy": "2022-05-14T19:08:40.889973Z",
     "iopub.status.idle": "2022-05-14T19:28:09.556024Z",
     "shell.execute_reply": "2022-05-14T19:28:09.555050Z",
     "shell.execute_reply.started": "2022-05-14T19:08:40.890238Z"
    }
   },
   "outputs": [
    {
     "name": "stdout",
     "output_type": "stream",
     "text": [
      "Train on 90000 samples, validate on 10000 samples\n",
      "Epoch 1/15\n",
      "90000/90000 [==============================] - 136s 2ms/sample - loss: 1.9148 - accuracy: 0.7137 - val_loss: 1.4637 - val_accuracy: 0.7509\n",
      "Epoch 2/15\n",
      "90000/90000 [==============================] - 121s 1ms/sample - loss: 1.3061 - accuracy: 0.7712 - val_loss: 1.1796 - val_accuracy: 0.7844\n",
      "Epoch 3/15\n",
      "90000/90000 [==============================] - 121s 1ms/sample - loss: 1.0432 - accuracy: 0.8003 - val_loss: 1.0190 - val_accuracy: 0.8077\n",
      "Epoch 4/15\n",
      "90000/90000 [==============================] - 122s 1ms/sample - loss: 0.8492 - accuracy: 0.8246 - val_loss: 0.8927 - val_accuracy: 0.8262\n",
      "Epoch 5/15\n",
      "90000/90000 [==============================] - 121s 1ms/sample - loss: 0.6837 - accuracy: 0.8491 - val_loss: 0.7891 - val_accuracy: 0.8429\n",
      "Epoch 6/15\n",
      "90000/90000 [==============================] - 121s 1ms/sample - loss: 0.5420 - accuracy: 0.8735 - val_loss: 0.7075 - val_accuracy: 0.8589\n",
      "Epoch 7/15\n",
      "90000/90000 [==============================] - 121s 1ms/sample - loss: 0.4324 - accuracy: 0.8937 - val_loss: 0.6522 - val_accuracy: 0.8695\n",
      "Epoch 8/15\n",
      "90000/90000 [==============================] - 121s 1ms/sample - loss: 0.3530 - accuracy: 0.9092 - val_loss: 0.6226 - val_accuracy: 0.8758\n",
      "Epoch 9/15\n",
      "90000/90000 [==============================] - 121s 1ms/sample - loss: 0.2963 - accuracy: 0.9211 - val_loss: 0.6044 - val_accuracy: 0.8793\n",
      "Epoch 10/15\n",
      "90000/90000 [==============================] - 121s 1ms/sample - loss: 0.2532 - accuracy: 0.9304 - val_loss: 0.5993 - val_accuracy: 0.8826\n",
      "Epoch 11/15\n",
      "90000/90000 [==============================] - 121s 1ms/sample - loss: 0.2216 - accuracy: 0.9376 - val_loss: 0.5930 - val_accuracy: 0.8846\n",
      "Epoch 12/15\n",
      "90000/90000 [==============================] - 122s 1ms/sample - loss: 0.1960 - accuracy: 0.9436 - val_loss: 0.5937 - val_accuracy: 0.8856\n"
     ]
    }
   ],
   "source": [
    "model.compile(optimizer='adam', loss='sparse_categorical_crossentropy',metrics=['accuracy'])\n",
    "\n",
    "es = EarlyStopping(monitor='val_loss', mode='min')\n",
    "\n",
    "history=model.fit([x_tr,y_tr[:,:-1]], y_tr.reshape(y_tr.shape[0],y_tr.shape[1], 1)[:,1:],\n",
    "                  epochs=15,\n",
    "                  callbacks=[es],\n",
    "                  batch_size=128,\n",
    "                  validation_data=([x_val,y_val[:,:-1]], y_val.reshape(y_val.shape[0],y_val.shape[1], 1)[:,1:]))"
   ]
  },
  {
   "cell_type": "code",
   "execution_count": 9,
   "metadata": {
    "execution": {
     "iopub.execute_input": "2022-05-14T19:28:09.558419Z",
     "iopub.status.busy": "2022-05-14T19:28:09.558110Z",
     "iopub.status.idle": "2022-05-14T19:28:09.698229Z",
     "shell.execute_reply": "2022-05-14T19:28:09.697377Z",
     "shell.execute_reply.started": "2022-05-14T19:28:09.558380Z"
    }
   },
   "outputs": [
    {
     "data": {
      "image/png": "[encoded data removed]",
      "text/plain": [
       "<Figure size 432x288 with 1 Axes>"
      ]
     },
     "metadata": {
      "needs_background": "light"
     },
     "output_type": "display_data"
    }
   ],
   "source": [
    "from matplotlib import pyplot\n",
    "pyplot.plot(history.history['loss'], label='train')\n",
    "pyplot.plot(history.history['val_loss'], label='test')\n",
    "pyplot.legend()\n",
    "pyplot.show()"
   ]
  },
  {
   "cell_type": "code",
   "execution_count": 10,
   "metadata": {
    "execution": {
     "iopub.execute_input": "2022-05-14T19:28:09.699937Z",
     "iopub.status.busy": "2022-05-14T19:28:09.699630Z",
     "iopub.status.idle": "2022-05-14T19:28:09.705033Z",
     "shell.execute_reply": "2022-05-14T19:28:09.704286Z",
     "shell.execute_reply.started": "2022-05-14T19:28:09.699901Z"
    }
   },
   "outputs": [],
   "source": [
    "reverse_target_word_index=y_tokens.index_word\n",
    "reverse_source_word_index=x_tokens.index_word\n",
    "target_word_index=y_tokens.word_index"
   ]
  },
  {
   "cell_type": "code",
   "execution_count": 11,
   "metadata": {
    "execution": {
     "iopub.execute_input": "2022-05-14T19:28:09.706890Z",
     "iopub.status.busy": "2022-05-14T19:28:09.706373Z",
     "iopub.status.idle": "2022-05-14T19:28:09.900922Z",
     "shell.execute_reply": "2022-05-14T19:28:09.900297Z",
     "shell.execute_reply.started": "2022-05-14T19:28:09.706851Z"
    }
   },
   "outputs": [],
   "source": [
    "encoder_model = Model(inputs=encoder_inputs,outputs=[encoder_outputs, state_h, state_c])\n",
    "\n",
    "decoder_state_input_h = Input(shape=(600,))\n",
    "decoder_state_input_c = Input(shape=(600,))\n",
    "decoder_hidden_state_input = Input(shape=(max_len_english,600))\n",
    "\n",
    "dec_emb2= dec_emb_layer(decoder_inputs) \n",
    "\n",
    "decoder_outputs2, state_h2, state_c2 = decoder_lstm(dec_emb2, initial_state=[decoder_state_input_h, decoder_state_input_c])\n",
    "\n",
    "attn_out_inf = attn_layer([decoder_outputs2, decoder_hidden_state_input])\n",
    "\n",
    "decoder_inf_concat = Concatenate(axis=-1, name='concat')([attn_out_inf, decoder_outputs2])\n",
    "\n",
    "decoder_outputs2 = decoder_dense(decoder_inf_concat) \n",
    "\n",
    "decoder_model = Model([decoder_inputs] + [decoder_hidden_state_input, decoder_state_input_h, decoder_state_input_c],\n",
    "    [decoder_outputs2] + [state_h2, state_c2])"
   ]
  },
  {
   "cell_type": "code",
   "execution_count": 12,
   "metadata": {
    "execution": {
     "iopub.execute_input": "2022-05-14T19:28:09.903657Z",
     "iopub.status.busy": "2022-05-14T19:28:09.903363Z",
     "iopub.status.idle": "2022-05-14T19:28:09.913228Z",
     "shell.execute_reply": "2022-05-14T19:28:09.912376Z",
     "shell.execute_reply.started": "2022-05-14T19:28:09.903620Z"
    }
   },
   "outputs": [],
   "source": [
    "def decode_sequence(input_seq):\n",
    "    e_out, e_h, e_c = encoder_model.predict(input_seq)\n",
    "\n",
    "    target_seq = np.zeros((1,1))\n",
    "    \n",
    "    target_seq[0, 0] = target_word_index['start']\n",
    "\n",
    "    stop_condition = False\n",
    "    decoded_sentence = ''\n",
    "    while not stop_condition:\n",
    "      \n",
    "        output_tokens, h, c = decoder_model.predict([target_seq] + [e_out, e_h, e_c])\n",
    "\n",
    "        sampled_token_index = np.argmax(output_tokens[0, -1, :])\n",
    "        sampled_token = reverse_target_word_index[sampled_token_index]\n",
    "        \n",
    "        if(sampled_token!='end'):\n",
    "            decoded_sentence += ' '+sampled_token\n",
    "\n",
    "        if (sampled_token == 'end'  or len(decoded_sentence.split()) >= (max_len_french-1)):\n",
    "            stop_condition = True\n",
    "\n",
    "        target_seq = np.zeros((1,1))\n",
    "        target_seq[0, 0] = sampled_token_index\n",
    "        \n",
    "        e_h, e_c = h, c\n",
    "\n",
    "    return decoded_sentence"
   ]
  },
  {
   "cell_type": "code",
   "execution_count": 13,
   "metadata": {
    "execution": {
     "iopub.execute_input": "2022-05-14T19:28:09.915823Z",
     "iopub.status.busy": "2022-05-14T19:28:09.915125Z",
     "iopub.status.idle": "2022-05-14T19:28:13.481717Z",
     "shell.execute_reply": "2022-05-14T19:28:13.480206Z",
     "shell.execute_reply.started": "2022-05-14T19:28:09.915784Z"
    }
   },
   "outputs": [
    {
     "name": "stdout",
     "output_type": "stream",
     "text": [
      "Review: jackson is my family name \n",
      "Original summary: jackson est mon nom de famille \n",
      "Predicted summary:  l'huile est mon père de famille\n",
      "\n",
      "\n",
      "Review: i really like you \n",
      "Original summary: tu me plais vraiment \n",
      "Predicted summary:  je t'aime vraiment\n",
      "\n",
      "\n",
      "Review: don t tell anybody \n",
      "Original summary: ne le dis à personne \n",
      "Predicted summary:  ne le contez à personne\n",
      "\n",
      "\n",
      "Review: i ve been there a lot \n",
      "Original summary: j'y ai beaucoup été \n",
      "Predicted summary:  j'y suis beaucoup allé\n",
      "\n",
      "\n",
      "Review: i like skiing very much \n",
      "Original summary: j'adore le ski \n",
      "Predicted summary:  j'aime beaucoup la ski\n",
      "\n",
      "\n",
      "Review: are you sure it was tom \n",
      "Original summary: êtes vous sûr que c'était tom \n",
      "Predicted summary:  es tu sûr que c'était tom\n",
      "\n",
      "\n",
      "Review: you re all very nice people \n",
      "Original summary: vous êtes tous des gens très sympathiques \n",
      "Predicted summary:  vous êtes toutes très en colère très longtemps\n",
      "\n",
      "\n",
      "Review: i knew they were coming \n",
      "Original summary: je savais qu'elles venaient \n",
      "Predicted summary:  je savais qu'ils venaient\n",
      "\n",
      "\n",
      "Review: do you like grapes \n",
      "Original summary: aimes tu le raisin \n",
      "Predicted summary:  aimez vous le chemisier\n",
      "\n",
      "\n"
     ]
    }
   ],
   "source": [
    "def seq2summary(input_seq):\n",
    "    newString=''\n",
    "    for i in input_seq:\n",
    "      if((i!=0 and i!=target_word_index['start']) and i!=target_word_index['end']):\n",
    "        newString=newString+reverse_target_word_index[i]+' '\n",
    "    return newString\n",
    "\n",
    "def seq2text(input_seq):\n",
    "    newString=''\n",
    "    for i in input_seq:\n",
    "      if(i!=0):\n",
    "        newString=newString+reverse_source_word_index[i]+' '\n",
    "    return newString\n",
    "\n",
    "\n",
    "for i in range(11,20):\n",
    "  print(\"Review:\",seq2text(x_val[i]))\n",
    "  print(\"Original summary:\",seq2summary(y_val[i]))\n",
    "  print(\"Predicted summary:\",decode_sequence(x_val[i].reshape(1,max_len_english)))\n",
    "  print(\"\\n\")"
   ]
  },
  {
   "cell_type": "code",
   "execution_count": null,
   "metadata": {},
   "outputs": [],
   "source": []
  },
  {
   "cell_type": "code",
   "execution_count": null,
   "metadata": {},
   "outputs": [],
   "source": []
  },
  {
   "cell_type": "code",
   "execution_count": null,
   "metadata": {},
   "outputs": [],
   "source": []
  }
 ],
 "metadata": {
  "kernelspec": {
   "display_name": "Python 3",
   "language": "python",
   "name": "python3"
  },
  "language_info": {
   "codemirror_mode": {
    "name": "ipython",
    "version": 3
   },
   "file_extension": ".py",
   "mimetype": "text/x-python",
   "name": "python",
   "nbconvert_exporter": "python",
   "pygments_lexer": "ipython3",
   "version": "3.6.6"
  }
 },
 "nbformat": 4,
 "nbformat_minor": 4
}
